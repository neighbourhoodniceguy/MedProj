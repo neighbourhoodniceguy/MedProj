{
 "cells": [
  {
   "cell_type": "markdown",
   "metadata": {},
   "source": [
    "# U.S. Medical Insurance Costs"
   ]
  },
  {
   "cell_type": "markdown",
   "metadata": {},
   "source": [
    "Project Author: <b>Markus J. (vikemarkus on codecademy)</b>"
   ]
  },
  {
   "cell_type": "markdown",
   "metadata": {},
   "source": [
    "<H1>Main Objective</H1>\n",
    "The main objective of this project is to determine whether there is a <b>\"causal relationship between the sex and the insurance cost of a person\"</b>. To evaluate this, we have to be critical of the dataset and find a way to eliminate the impact of other factors."
   ]
  },
  {
   "cell_type": "markdown",
   "metadata": {},
   "source": [
    "<b>PS!</b> To be clear, we are only able to factor in and eliminate the effect of the other variables provided in the given dataset. This means that the final numbers will be just as accurate as this dataset allows them to be. If there are any other factors (there most definitely are) but they are not accounted for in this dataset, we won't be able to account for them."
   ]
  },
  {
   "cell_type": "markdown",
   "metadata": {},
   "source": [
    "We will do this by iterating through the dataset and filtering out the highest possible number of datapoints that share common cost-determining variable (except the sex) - this will allow us to look at the sex of a person and evaluate causal relationship in a meaningful way."
   ]
  },
  {
   "cell_type": "markdown",
   "metadata": {},
   "source": [
    "<h2>Gameplan</h2>\n",
    "<b>1.</b> Importing all data from the csv file and dividing the column values into lists for later access. "
   ]
  },
  {
   "cell_type": "markdown",
   "metadata": {},
   "source": [
    "<b>2.</b> Filter out the non-smokers for final objective dataset. <b>(Side Objective)</b> Determine if smoking has an effect on the insurance cost."
   ]
  },
  {
   "cell_type": "markdown",
   "metadata": {},
   "source": [
    "<b>3. </b> Filter by region for final objective dataset."
   ]
  },
  {
   "cell_type": "markdown",
   "metadata": {},
   "source": [
    "<b>4. </b> Filter BMI for final objective dataset. <b>(Side Objective)</b> BMI Effect on insurance cost."
   ]
  },
  {
   "cell_type": "markdown",
   "metadata": {},
   "source": [
    "<b>5. </b> Filter Children for final objective dataset."
   ]
  },
  {
   "cell_type": "markdown",
   "metadata": {},
   "source": [
    "<b>6. (Main Objective)</b> Determine whether there is a causal effect between sex and insurance cost."
   ]
  },
  {
   "cell_type": "markdown",
   "metadata": {},
   "source": [
    "<b>7. </b> The Results"
   ]
  },
  {
   "cell_type": "markdown",
   "metadata": {},
   "source": [
    "<H1>---------</H1>"
   ]
  },
  {
   "cell_type": "markdown",
   "metadata": {},
   "source": [
    "<H1>1. Importing data</H1>"
   ]
  },
  {
   "cell_type": "code",
   "execution_count": 123,
   "metadata": {},
   "outputs": [],
   "source": [
    "import csv\n",
    "\n"
   ]
  },
  {
   "cell_type": "code",
   "execution_count": 124,
   "metadata": {},
   "outputs": [],
   "source": [
    "with open(\"insurance.csv\") as insurance_file:\n",
    "    insurance_csv = csv.DictReader(insurance_file)\n",
    "    data = [row for row in insurance_csv]"
   ]
  },
  {
   "cell_type": "code",
   "execution_count": 125,
   "metadata": {
    "scrolled": true
   },
   "outputs": [],
   "source": [
    "ages = []\n",
    "sex = []\n",
    "bmi = []\n",
    "children = []\n",
    "smoker = []\n",
    "region = []\n",
    "charges = []"
   ]
  },
  {
   "cell_type": "code",
   "execution_count": 126,
   "metadata": {},
   "outputs": [],
   "source": [
    "for element in data:\n",
    "    ages.append(element[\"age\"])\n",
    "    sex.append(element[\"sex\"])\n",
    "    bmi.append(element[\"bmi\"])\n",
    "    children.append(element[\"children\"])\n",
    "    smoker.append(element[\"smoker\"])\n",
    "    region.append(element[\"region\"])\n",
    "    charges.append(element[\"charges\"])"
   ]
  },
  {
   "cell_type": "markdown",
   "metadata": {},
   "source": [
    "<H1>2. Smoking has an effect on the insurance cost.</H1>\n",
    "Determining the effects of smoking/not smoking on insurance cost - since the list has more non-smokers than smokers, we have to find the avg nonsmokers cost separately"
   ]
  },
  {
   "cell_type": "code",
   "execution_count": 127,
   "metadata": {},
   "outputs": [
    {
     "name": "stdout",
     "output_type": "stream",
     "text": [
      "8974061.468918996\n",
      "1064\n",
      "274\n",
      "8781763.52184\n",
      "A smoker's insurance cost is 23615.96 higher than a non-smoker's on average.\n"
     ]
    }
   ],
   "source": [
    "#determining the effects of smoking/not smoking on insurance cost - since the list has more non-smokers than smokers, we have to find the avg nonsmokers cost separately\n",
    "non_smoker_cost = 0\n",
    "non_smoker_amount = 0\n",
    "smoker_cost = 0\n",
    "smoker_amount = 0\n",
    "index = 0\n",
    "\n",
    "for element in smoker:\n",
    "    if element == \"yes\":\n",
    "        smoker_cost += float(charges[index])\n",
    "        smoker_amount += 1\n",
    "    else:\n",
    "        non_smoker_cost += float(charges[index])\n",
    "        non_smoker_amount += 1\n",
    "    index += 1\n",
    "\n",
    "avg_cost_difference = (smoker_cost / smoker_amount) - (non_smoker_cost / non_smoker_amount)\n",
    "print(non_smoker_cost)\n",
    "print(non_smoker_amount)\n",
    "print(smoker_amount)\n",
    "print(smoker_cost)\n",
    "print(\"A smoker's insurance cost is \" + str(round(avg_cost_difference,2)) + \" higher than a non-smoker's on average.\")"
   ]
  },
  {
   "cell_type": "code",
   "execution_count": 128,
   "metadata": {},
   "outputs": [],
   "source": [
    "#determine to see whether the Sex of a person is in direct CAUSAL relationship to the insurance cost\n",
    "#to determine causal relationship as accurately as possible, we have to minimize the effect of other variables\n",
    "\n",
    "sex_to_cost_data_set_indexes = [] # list of the datapoint indexes we will include in the final dataset\n",
    "\n",
    "#1. let's choose only non-smokers because most of the people in the dataset are non-smokers.\n",
    "index = 0\n",
    "for element in smoker:\n",
    "    if element == \"no\":\n",
    "        sex_to_cost_data_set_indexes.append(index)\n",
    "    else:\n",
    "        pass\n",
    "    index += 1\n",
    "\n",
    "\n"
   ]
  },
  {
   "cell_type": "markdown",
   "metadata": {},
   "source": [
    "<H1>3. Divide the dataset by regions</H1>\n",
    "We'll see which region has more people and we'll select that to move forward."
   ]
  },
  {
   "cell_type": "code",
   "execution_count": 129,
   "metadata": {},
   "outputs": [
    {
     "name": "stdout",
     "output_type": "stream",
     "text": [
      "North east: 324\n",
      "South east: 364\n",
      "North west: 325\n",
      "South west: 325\n"
     ]
    }
   ],
   "source": [
    "#3. divide the dataset by regions - we'll see which region has more people and we'll select that to move forward.\n",
    "\n",
    "north_east_num = 0\n",
    "south_east_num = 0\n",
    "north_west_num = 0\n",
    "south_west_num = 0\n",
    "\n",
    "for element in region:\n",
    "    if element == \"northeast\":\n",
    "        north_east_num += 1\n",
    "    elif element == \"southeast\":\n",
    "        south_east_num += 1\n",
    "    elif element == \"northwest\":\n",
    "        north_west_num += 1\n",
    "    else:\n",
    "        south_west_num += 1\n",
    "\n",
    "print(\"North east: \" + str(north_east_num))\n",
    "print(\"South east: \" + str(south_east_num))\n",
    "print(\"North west: \" + str(north_west_num))\n",
    "print(\"South west: \" + str(south_west_num))\n",
    "        \n",
    "#South East has most datapoints, let's proceed with that. Now let's update the main index list to only include people from this region.\n",
    "index = 0\n",
    "\n",
    "for element in region:\n",
    "    if element == \"southeast\":\n",
    "        if index in sex_to_cost_data_set_indexes:\n",
    "            pass\n",
    "    else:\n",
    "        if index in sex_to_cost_data_set_indexes:\n",
    "            sex_to_cost_data_set_indexes.remove(index)\n",
    "        else:\n",
    "            pass\n",
    "    index += 1"
   ]
  },
  {
   "cell_type": "code",
   "execution_count": 130,
   "metadata": {},
   "outputs": [
    {
     "name": "stdout",
     "output_type": "stream",
     "text": [
      "Avg female age: 38.917159763313606\n",
      "Avg male age: 39.503021148036254\n",
      "Difference is less than 5% (0.5858613847226479 < 1.9605045227837465), ages don't have to be accounted for.\n"
     ]
    }
   ],
   "source": [
    "#Lets calculate the avg ages to see if they make a difference on average\n",
    "index = 0\n",
    "female_ages = 0\n",
    "female_num = 0\n",
    "male_ages = 0\n",
    "male_num = 0\n",
    "\n",
    "for element in sex:\n",
    "    if element == \"female\":\n",
    "        female_ages += int(ages[index])\n",
    "        female_num += 1\n",
    "    else:\n",
    "        male_ages += int(ages[index])\n",
    "        male_num += 1\n",
    "    index += 1\n",
    "\n",
    "avg_male = female_ages / female_num\n",
    "avg_female = male_ages / male_num\n",
    "\n",
    "print(\"Avg female age: \" + str(avg_female))\n",
    "print(\"Avg male age: \" + str(avg_male))\n",
    "\n",
    "#Statistical insignificance is 5 percent.\n",
    "stat_insignificance = 5*(avg_female+avg_male)/2/100\n",
    "difference = avg_male-avg_female\n",
    "if difference < stat_insignificance:\n",
    "    print(\"Difference is less than 5% (\" + str(difference) + \" < \" + str(stat_insignificance) + \"), ages don't have to be accounted for.\")\n",
    "else:\n",
    "    print(\"Difference is more than 5%, we have to account for ages.\")"
   ]
  },
  {
   "cell_type": "markdown",
   "metadata": {},
   "source": [
    "<H1>4. BMI effect on Insurance Cost</H1>\n",
    "Let's determine as accurately as possible whether BMI has any effect and if, how big of an effect on the cost of insurance.\n",
    "To minimize the effect of other variables, let's use the smaller but more precise dataset <b>sex_to_cost_data_set_indexes</b>"
   ]
  },
  {
   "cell_type": "code",
   "execution_count": 131,
   "metadata": {},
   "outputs": [
    {
     "data": {
      "text/plain": [
       "(0.0, 50000.0)"
      ]
     },
     "execution_count": 131,
     "metadata": {},
     "output_type": "execute_result"
    },
    {
     "data": {
      "image/png": "[encoded data removed]",
      "text/plain": [
       "<Figure size 640x480 with 1 Axes>"
      ]
     },
     "metadata": {},
     "output_type": "display_data"
    }
   ],
   "source": [
    "#Let's determine as accurately as possible whether BMI has any effect and if, how big of an effect on the cost of insurance.\n",
    "#To minimize the effect of other variables, let's use the smaller but more precise dataset sex_tosex_to_cost_data_set_indexes\n",
    "fixed_bmi_list = []\n",
    "fixed_cost_list = []\n",
    "final_bmi_list = []\n",
    "final_cost_list = []\n",
    "\n",
    "for index in sex_to_cost_data_set_indexes:\n",
    "    fixed_bmi_list.append(bmi[index])\n",
    "    fixed_cost_list.append(charges[index])\n",
    "\n",
    "\n",
    "import matplotlib.pyplot as plt\n",
    "import numpy as np\n",
    "\n",
    "import matplotlib as mpl\n",
    "for x in fixed_bmi_list:\n",
    "    x = float(x)\n",
    "    x = int(x)\n",
    "    final_bmi_list.append(x)\n",
    "for x in fixed_cost_list:\n",
    "    x = float(x)\n",
    "    x = int(x)\n",
    "    final_cost_list.append(x)\n",
    "    \n",
    "x = final_bmi_list\n",
    "y = final_cost_list\n",
    "#fig, ax = plt.subplots()\n",
    "#plt.scatter(fixed_bmi_list,fixed_cost_list)\n",
    "#plt.show()\n",
    "coef = np.polyfit(x,y,1)\n",
    "poly1d_fn = np.poly1d(coef) \n",
    "# poly1d_fn is now a function which takes in x and returns an estimate for y\n",
    "\n",
    "plt.plot(x,y, 'go', x, poly1d_fn(x), '--k') #'--k'=black dashed line, 'go' = green circle marker\n",
    "\n",
    "plt.xlim(15, 50)\n",
    "plt.ylim(0, 50000)\n",
    "#The black dashed line which represents the potential linear relationship between the BMI and the Insurance Cost."
   ]
  },
  {
   "cell_type": "markdown",
   "metadata": {},
   "source": [
    "<H3>Conclusion</H3>\n",
    "The change in BMI has no significant effect on the Insurance Cost. This is illustrated by the black dashed line. As we increase the BMI (x-axis), the Insurance Cost(y-axis) stays roughly the same over all the cases."
   ]
  },
  {
   "cell_type": "markdown",
   "metadata": {},
   "source": [
    "<H1>5. Children impact on Insurance Cost</H1>\n",
    "Now, let's determine how the amount of children affects the Insurance Cost.\n",
    "Lets divide the people in our corrected sex_to_cost_data_set_indexes list into groups based on the number of children."
   ]
  },
  {
   "cell_type": "code",
   "execution_count": 132,
   "metadata": {},
   "outputs": [
    {
     "name": "stdout",
     "output_type": "stream",
     "text": [
      "117\n",
      "73\n",
      "48\n",
      "24\n",
      "5\n",
      "6\n"
     ]
    }
   ],
   "source": [
    "#Finally, let's determine how the amount of children affects the Insurance Cost.\n",
    "#Lets divide the people in our corrected sexsex_to_cost_data_set_indexes list into groups based on the number of children.\n",
    "\n",
    "no_children_indexes = []\n",
    "one_child_indexes = []\n",
    "two_child_indexes = []\n",
    "three_child_indexes = []\n",
    "four_child_indexes = []\n",
    "five_child_indexes = []\n",
    "\n",
    "for index in sex_to_cost_data_set_indexes:\n",
    "    if children[index] == \"0\":\n",
    "        no_children_indexes.append(index)\n",
    "    elif children[index] == \"1\":\n",
    "        one_child_indexes.append(index)\n",
    "    elif children[index] == \"2\":\n",
    "        two_child_indexes.append(index)\n",
    "    elif children[index] == \"3\":\n",
    "        three_child_indexes.append(index) \n",
    "    elif children[index] == \"4\":\n",
    "        four_child_indexes.append(index)\n",
    "    else:\n",
    "        five_child_indexes.append(index)\n",
    "\n",
    "print(len(no_children_indexes))\n",
    "print(len(one_child_indexes))\n",
    "print(len(two_child_indexes))\n",
    "print(len(three_child_indexes))\n",
    "print(len(four_child_indexes))\n",
    "print(len(five_child_indexes))"
   ]
  },
  {
   "cell_type": "code",
   "execution_count": 133,
   "metadata": {},
   "outputs": [
    {
     "name": "stdout",
     "output_type": "stream",
     "text": [
      "Avg cost to person with no children: 7060.081926666668\n",
      "Avg cost to person with 1 child: 8016.476171780822\n",
      "Avg cost to person with 2 children: 7519.504892291664\n",
      "Avg cost to person with 3 children: 11986.612601666668\n",
      "Avg cost to person with 4 children: 14451.023972\n",
      "Avg cost to person with 5 children: 10115.441541666665\n"
     ]
    }
   ],
   "source": [
    "#Let's find the average cost of insurance for a person in every children group\n",
    "\n",
    "no_avg = 0\n",
    "one_avg = 0\n",
    "two_avg = 0\n",
    "three_avg = 0\n",
    "four_avg = 0\n",
    "five_avg = 0\n",
    "\n",
    "for index in no_children_indexes:\n",
    "    no_avg += float(charges[index]) #We'll calculate the totals first, dividing by the number of cases comes after the for loop\n",
    "no_avg = no_avg / len(no_children_indexes)\n",
    "\n",
    "for index in one_child_indexes:\n",
    "    one_avg += float(charges[index])\n",
    "one_avg = one_avg / len(one_child_indexes)\n",
    "\n",
    "for index in two_child_indexes:\n",
    "    two_avg += float(charges[index])\n",
    "two_avg = two_avg / len(two_child_indexes)\n",
    "\n",
    "for index in three_child_indexes:\n",
    "    three_avg += float(charges[index])\n",
    "three_avg = three_avg / len(three_child_indexes)\n",
    "\n",
    "for index in four_child_indexes:\n",
    "    four_avg += float(charges[index])\n",
    "four_avg = four_avg / len(four_child_indexes)\n",
    "\n",
    "for index in five_child_indexes:\n",
    "    five_avg += float(charges[index])\n",
    "five_avg = five_avg / len(five_child_indexes)\n",
    "\n",
    "print(\"Avg cost to person with no children: \" + str(no_avg))\n",
    "print(\"Avg cost to person with 1 child: \" + str(one_avg))\n",
    "print(\"Avg cost to person with 2 children: \" + str(two_avg))\n",
    "print(\"Avg cost to person with 3 children: \" + str(three_avg))\n",
    "print(\"Avg cost to person with 4 children: \" + str(four_avg))\n",
    "print(\"Avg cost to person with 5 children: \" + str(five_avg))"
   ]
  },
  {
   "cell_type": "code",
   "execution_count": 134,
   "metadata": {},
   "outputs": [
    {
     "name": "stdout",
     "output_type": "stream",
     "text": [
      "[5, 13, 22, 48, 68, 77, 90, 97, 108, 116, 118, 135, 151, 170, 181, 190, 192, 194, 206, 217, 219, 226, 227, 236, 246, 247, 257, 293, 313, 336, 354, 358, 359, 374, 382, 386, 397, 399, 406, 416, 442, 470, 478, 479, 482, 491, 511, 521, 523, 525, 533, 534, 539, 542, 551, 557, 576, 594, 600, 605, 614, 632, 652, 654, 663, 672, 673, 687, 700, 702, 743, 753, 781, 789, 790, 801, 804, 808, 815, 822, 866, 872, 898, 903, 915, 928, 939, 940, 944, 974, 976, 979, 997, 1057, 1058, 1060, 1097, 1103, 1105, 1138, 1142, 1166, 1172, 1197, 1216, 1222, 1228, 1243, 1244, 1248, 1254, 1280, 1292, 1305, 1317, 1322, 1335]\n"
     ]
    }
   ],
   "source": [
    "#The group with no children has the most datapoints in it (117). Let's take use this as the final way to develop a good dataset\n",
    "#for determining the causal relationship between the sex of a person and their insurance cost.\n",
    "final_data_set_indexes = []\n",
    "\n",
    "for index in no_children_indexes:\n",
    "    if index in sex_to_cost_data_set_indexes:\n",
    "        final_data_set_indexes.append(index)\n",
    "    else:\n",
    "        pass\n",
    "\n",
    "print(final_data_set_indexes)"
   ]
  },
  {
   "cell_type": "markdown",
   "metadata": {},
   "source": [
    "<H1>6. Main Objective - Causal connection between SEX and COST</H1>"
   ]
  },
  {
   "cell_type": "code",
   "execution_count": 145,
   "metadata": {},
   "outputs": [
    {
     "name": "stdout",
     "output_type": "stream",
     "text": [
      "1338.9523779210522\n",
      "Avg cost for a male person is: 6407.771793833334\n",
      "Avg cost for a female person is: 7746.724171754387\n",
      "Avg cost for a female person is 21.0% larger than that for a man\n"
     ]
    }
   ],
   "source": [
    "#Finally, lets determine if there is a causal connection.\n",
    "\n",
    "male_avg = 0\n",
    "male_indexes = []\n",
    "female_avg = 0\n",
    "female_indexes = []\n",
    "\n",
    "for index in final_data_set_indexes:\n",
    "    if sex[index] == \"male\":\n",
    "        male_avg += float(charges[index])\n",
    "        male_indexes.append(index)\n",
    "    else:\n",
    "        female_avg += float(charges[index])\n",
    "        female_indexes.append(index)\n",
    "        \n",
    "male_avg = male_avg / len(male_indexes)\n",
    "female_avg = female_avg / len(female_indexes)\n",
    "diff_avg = female_avg-male_avg\n",
    "diff_perc = diff_avg * 100 / male_avg\n",
    "print(diff_avg)\n",
    "print(\"Avg cost for a male person is: \" + str(male_avg))\n",
    "print(\"Avg cost for a female person is: \" + str(female_avg))\n",
    "print(\"Avg cost for a female person is \" + str(round(diff_perc,0)) + \"% larger than that for a man\")"
   ]
  },
  {
   "cell_type": "markdown",
   "metadata": {},
   "source": [
    "<H1>7. The Results</H1>\n",
    "Based on the calculations we can see that there is an obvious causal connection between the sex of a person and their insurance cost. The average insurance cost for females is <b>21%</b> or <b>1339$</b> more than for males of the same demographic."
   ]
  },
  {
   "cell_type": "code",
   "execution_count": null,
   "metadata": {},
   "outputs": [],
   "source": []
  }
 ],
 "metadata": {
  "kernelspec": {
   "display_name": "Python 3 (ipykernel)",
   "language": "python",
   "name": "python3"
  },
  "language_info": {
   "codemirror_mode": {
    "name": "ipython",
    "version": 3
   },
   "file_extension": ".py",
   "mimetype": "text/x-python",
   "name": "python",
   "nbconvert_exporter": "python",
   "pygments_lexer": "ipython3",
   "version": "3.11.7"
  }
 },
 "nbformat": 4,
 "nbformat_minor": 4
}
